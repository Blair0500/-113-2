{
  "nbformat": 4,
  "nbformat_minor": 0,
  "metadata": {
    "colab": {
      "provenance": [],
      "authorship_tag": "ABX9TyPlYple4vd9oxdXtqUlPERm",
      "include_colab_link": true
    },
    "kernelspec": {
      "name": "python3",
      "display_name": "Python 3"
    },
    "language_info": {
      "name": "python"
    }
  },
  "cells": [
    {
      "cell_type": "markdown",
      "metadata": {
        "id": "view-in-github",
        "colab_type": "text"
      },
      "source": [
        "<a href=\"https://colab.research.google.com/github/Blair0500/-113-2/blob/main/%E4%BD%9C%E6%A5%AD3%E7%8C%9C%E6%8B%B3.ipynb\" target=\"_parent\"><img src=\"https://colab.research.google.com/assets/colab-badge.svg\" alt=\"Open In Colab\"/></a>"
      ]
    },
    {
      "cell_type": "code",
      "execution_count": 3,
      "metadata": {
        "colab": {
          "base_uri": "https://localhost:8080/"
        },
        "id": "pxV5543sTSwm",
        "outputId": "3298982f-5711-4b4f-d678-e47eb1bb96e1"
      },
      "outputs": [
        {
          "output_type": "stream",
          "name": "stdout",
          "text": [
            "請輸入0,2,5之一5\n",
            "2\n",
            "你輸\n"
          ]
        }
      ],
      "source": [
        "import random\n",
        "ply=input(\"請輸入0,2,5之一\")\n",
        "cmp=random.choice([0,2,5])\n",
        "ply=int(ply)\n",
        "print(cmp)\n",
        "if cmp==ply:\n",
        "  print('平手')\n",
        "elif (ply==0 and cmp==2) or (ply==2 and cmp==5) or (ply==5 and cmp==0):\n",
        "  print('你贏')\n",
        "else:\n",
        "  print('你輸')"
      ]
    }
  ]
}