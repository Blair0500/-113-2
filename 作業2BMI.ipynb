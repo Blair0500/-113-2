{
  "nbformat": 4,
  "nbformat_minor": 0,
  "metadata": {
    "colab": {
      "provenance": [],
      "authorship_tag": "ABX9TyPU5nMwxthYc/ayXaIm+n/Y",
      "include_colab_link": true
    },
    "kernelspec": {
      "name": "python3",
      "display_name": "Python 3"
    },
    "language_info": {
      "name": "python"
    }
  },
  "cells": [
    {
      "cell_type": "markdown",
      "metadata": {
        "id": "view-in-github",
        "colab_type": "text"
      },
      "source": [
        "<a href=\"https://colab.research.google.com/github/Blair0500/-113-2/blob/main/%E4%BD%9C%E6%A5%AD2BMI.ipynb\" target=\"_parent\"><img src=\"https://colab.research.google.com/assets/colab-badge.svg\" alt=\"Open In Colab\"/></a>"
      ]
    },
    {
      "cell_type": "code",
      "execution_count": null,
      "metadata": {
        "id": "hMmknqDQS9rL"
      },
      "outputs": [],
      "source": [
        "h=float(input('請輸入身高(cm):'))\n",
        "w=float(input('請輸入體重(kg):'))\n",
        "BMI=w/((h/100)**2)\n",
        "print('BMI為',round(BMI,1))"
      ]
    }
  ]
}