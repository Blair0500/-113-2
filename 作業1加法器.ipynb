{
  "nbformat": 4,
  "nbformat_minor": 0,
  "metadata": {
    "colab": {
      "provenance": [],
      "authorship_tag": "ABX9TyPmywGzksiT6Dxks+g/F+fh",
      "include_colab_link": true
    },
    "kernelspec": {
      "name": "python3",
      "display_name": "Python 3"
    },
    "language_info": {
      "name": "python"
    }
  },
  "cells": [
    {
      "cell_type": "markdown",
      "metadata": {
        "id": "view-in-github",
        "colab_type": "text"
      },
      "source": [
        "<a href=\"https://colab.research.google.com/github/Blair0500/-113-2/blob/main/%E4%BD%9C%E6%A5%AD1%E5%8A%A0%E6%B3%95%E5%99%A8.ipynb\" target=\"_parent\"><img src=\"https://colab.research.google.com/assets/colab-badge.svg\" alt=\"Open In Colab\"/></a>"
      ]
    },
    {
      "cell_type": "code",
      "execution_count": 14,
      "metadata": {
        "colab": {
          "base_uri": "https://localhost:8080/"
        },
        "id": "cjV35mZ5EZTr",
        "outputId": "fe0c9054-7b50-49cc-f72b-47e756a853ce"
      },
      "outputs": [
        {
          "output_type": "stream",
          "name": "stdout",
          "text": [
            "請輸入一個整數6\n",
            "請輸入一個整數17\n",
            "23\n"
          ]
        }
      ],
      "source": [
        "n=int(input('請輸入一個整數'))\n",
        "m=int(input('請輸入一個整數'))\n",
        "print(n+m)"
      ]
    },
    {
      "cell_type": "code",
      "source": [
        "h=float(input('請輸入身高(cm):'))\n",
        "w=float(input('請輸入體重(kg):'))\n",
        "BMI=w/((h/100)**2)\n",
        "print('BMI為',round(BMI,1))"
      ],
      "metadata": {
        "colab": {
          "base_uri": "https://localhost:8080/"
        },
        "id": "BBtqap45Lho7",
        "outputId": "a809b8e5-997b-462c-9512-7645f8208aa0"
      },
      "execution_count": 26,
      "outputs": [
        {
          "output_type": "stream",
          "name": "stdout",
          "text": [
            "請輸入身高(cm):160.3\n",
            "請輸入體重(kg):45.8\n",
            "BMI為 17.8\n"
          ]
        }
      ]
    }
  ]
}